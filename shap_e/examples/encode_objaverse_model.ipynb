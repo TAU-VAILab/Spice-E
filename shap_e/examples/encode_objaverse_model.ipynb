{
 "cells": [
  {
   "cell_type": "code",
   "execution_count": null,
   "metadata": {},
   "outputs": [],
   "source": [
    "import torch\n",
    "import os\n",
    "import json\n",
    "os.getcwd()\n",
    "os.chdir('/storage/etaisella/repos/shape_proj/')\n",
    "\n",
    "from shap_e.models.download import load_model\n",
    "from shap_e.util.data_util import load_or_create_multimodal_batch\n",
    "from shap_e.util.notebooks import create_pan_cameras, decode_latent_images, gif_widget\n",
    "import objaverse\n",
    "import random\n",
    "objaverse.__version__\n",
    "device = torch.device('cuda' if torch.cuda.is_available() else 'cpu')\n",
    "xm = load_model('transmitter', device=device)\n",
    "%env BLENDER_PATH=/storage/etaisella/blender-3.4.1-linux-x64/blender"
   ]
  },
  {
   "cell_type": "markdown",
   "id": "8223a9cb",
   "metadata": {},
   "source": [
    "### Get random objaverse model"
   ]
  },
  {
   "cell_type": "code",
   "execution_count": null,
   "id": "9bec9958",
   "metadata": {},
   "outputs": [],
   "source": [
    "# setup dataset path\n",
    "dataset_path = '/storage/etaisella/repos/shape_proj/objaverse_dataset'\n",
    "\n",
    "# get model\n",
    "#random.seed(42)\n",
    "uids = objaverse.load_uids()\n",
    "random_object_uids = random.sample(uids, 1)\n",
    "objects = objaverse.load_objects(uids=random_object_uids)\n",
    "annotations = objaverse.load_annotations(random_object_uids)\n",
    "obj_id = random_object_uids[0]\n",
    "obj_annotation = annotations[obj_id]\n",
    "obj_name = obj_annotation['name']\n",
    "obj_localpath = objects[obj_id]\n",
    "print(f'id: {obj_id}, name: {obj_name}')\n",
    "\n",
    "# make folders for model\n",
    "subfolder_name = obj_name.replace(' ', '_') + f'_{obj_id}'\n",
    "os.makedirs(os.path.join(dataset_path, subfolder_name), exist_ok=True)\n",
    "\n",
    "# save annotation dict as json\n",
    "with open(os.path.join(dataset_path, subfolder_name, 'annotation.json'), 'w') as f:\n",
    "    json.dump(obj_annotation, f)"
   ]
  },
  {
   "cell_type": "code",
   "execution_count": null,
   "id": "aef1b89b",
   "metadata": {},
   "outputs": [],
   "source": []
  },
  {
   "cell_type": "code",
   "execution_count": null,
   "id": "cd2019a8",
   "metadata": {},
   "outputs": [],
   "source": [
    "model_path = objects[random_object_uids[0]]\n",
    "\n",
    "# This may take a few minutes, since it requires rendering the model twice\n",
    "# in two different modes.\n",
    "batch = load_or_create_multimodal_batch(\n",
    "    device,\n",
    "    model_path=model_path,\n",
    "    mv_light_mode=\"basic\",\n",
    "    mv_image_size=256,\n",
    "    cache_dir=\"example_data/objaverse/cached\",\n",
    "    random_sample_count=2**17,\n",
    "    verbose=True, # this will show Blender output during renders\n",
    ")"
   ]
  },
  {
   "cell_type": "code",
   "execution_count": null,
   "id": "3b6cbf62",
   "metadata": {},
   "outputs": [],
   "source": [
    "with torch.no_grad():\n",
    "    latent = xm.encoder.encode_to_bottleneck(batch)\n",
    "\n",
    "    render_mode = 'stf' # you can change this to 'nerf'\n",
    "    size = 128 # recommended that you lower resolution when using nerf\n",
    "\n",
    "    cameras = create_pan_cameras(size, device)\n",
    "    images = decode_latent_images(xm, latent, cameras, rendering_mode=render_mode)\n",
    "\n",
    "# save images\n",
    "os.makedirs(os.path.join(\"example_data/objaverse\", 'test_imgs'), exist_ok=True)\n",
    "for i, img in enumerate(images):\n",
    "    img.save(os.path.join(\"example_data/objaverse\", 'test_imgs', f'{i:05}.png'))"
   ]
  },
  {
   "cell_type": "markdown",
   "id": "0184d961",
   "metadata": {},
   "source": [
    "### Get annotation"
   ]
  },
  {
   "cell_type": "code",
   "execution_count": null,
   "id": "af0bc8ec",
   "metadata": {},
   "outputs": [],
   "source": [
    "annotations = objaverse.load_annotations(random_object_uids)\n",
    "print(annotations)"
   ]
  }
 ],
 "metadata": {
  "kernelspec": {
   "display_name": "Python 3 (ipykernel)",
   "language": "python",
   "name": "python3"
  },
  "language_info": {
   "codemirror_mode": {
    "name": "ipython",
    "version": 3
   },
   "file_extension": ".py",
   "mimetype": "text/x-python",
   "name": "python",
   "nbconvert_exporter": "python",
   "pygments_lexer": "ipython3",
   "version": "3.10.12"
  }
 },
 "nbformat": 4,
 "nbformat_minor": 5
}
